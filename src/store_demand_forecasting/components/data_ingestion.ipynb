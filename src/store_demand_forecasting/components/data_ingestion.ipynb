{
 "cells": [
  {
   "cell_type": "code",
   "execution_count": 1,
   "metadata": {},
   "outputs": [],
   "source": [
    "import os\n"
   ]
  },
  {
   "cell_type": "code",
   "execution_count": 2,
   "metadata": {},
   "outputs": [
    {
     "data": {
      "text/plain": [
       "'d:\\\\aakashyadav\\\\other_end_end_projects\\\\Store-Item-Demand-Forecasting-Challenge-main\\\\research'"
      ]
     },
     "execution_count": 2,
     "metadata": {},
     "output_type": "execute_result"
    }
   ],
   "source": [
    "%pwd"
   ]
  },
  {
   "cell_type": "code",
   "execution_count": 3,
   "metadata": {},
   "outputs": [],
   "source": [
    "os.chdir('../')"
   ]
  },
  {
   "cell_type": "code",
   "execution_count": 4,
   "metadata": {},
   "outputs": [
    {
     "data": {
      "text/plain": [
       "'d:\\\\aakashyadav\\\\other_end_end_projects\\\\Store-Item-Demand-Forecasting-Challenge-main'"
      ]
     },
     "execution_count": 4,
     "metadata": {},
     "output_type": "execute_result"
    }
   ],
   "source": [
    "%pwd"
   ]
  },
  {
   "cell_type": "code",
   "execution_count": 10,
   "metadata": {},
   "outputs": [],
   "source": [
    "from dataclasses import dataclass\n",
    "from pathlib import Path\n",
    "\n",
    "from src.store_demand_forecasting.constants import *\n",
    "\n",
    "@dataclass\n",
    "class DataIngestionConfig:\n",
    "    def __init__(self):\n",
    "        self.data_ingestion_artifacts_dir = os.path.join(\n",
    "            ARTIFACTS_DIR,ROOT_DIR\n",
    "        )\n",
    "        self.source_url:str = SOURCE_URL\n",
    "        self.local_data_file:Path = os.path.join(\n",
    "            self.data_ingestion_artifacts_dir,LOCAL_FILE_PATH\n",
    "        )\n",
    "        self.unzip_dir:Path = os.path.join(\n",
    "            self.data_ingestion_artifacts_dir\n",
    "        )"
   ]
  },
  {
   "cell_type": "code",
   "execution_count": 6,
   "metadata": {},
   "outputs": [],
   "source": [
    "# Data Ingestion Artifacts\n",
    "@dataclass\n",
    "class DataIngestionArtifacts:\n",
    "    zip_data_file_path: str\n",
    "    csv_data_file_path: str"
   ]
  },
  {
   "cell_type": "code",
   "execution_count": 7,
   "metadata": {},
   "outputs": [],
   "source": [
    "import os\n",
    "import pandas as pd\n",
    "import urllib.request as request\n",
    "import requests\n",
    "import zipfile\n",
    "from src.store_demand_forecasting.logger import logging\n",
    "from pathlib import Path\n",
    "from src.store_demand_forecasting.utils.common import MainUtils"
   ]
  },
  {
   "cell_type": "code",
   "execution_count": 8,
   "metadata": {},
   "outputs": [],
   "source": [
    "class DataIngestion:\n",
    "    def __init__(self,data_ingestion_config:DataIngestionConfig) -> None:\n",
    "\n",
    "        self.data_ingestion_config = data_ingestion_config\n",
    "\n",
    "    def download_file(self):\n",
    "        if not os.path.exists(self.config.local_data_file):\n",
    "            filename, headers = request.urlretrieve(\n",
    "                url = self.data_ingestion_config.source_url,\n",
    "                filename = self.data_ingestion_config.local_data_file\n",
    "            )\n",
    "            logging.info(f\"{filename} download! with following info: \\n{headers}\")\n",
    "        else:\n",
    "            logging.info(f\"File already exists of size: {MainUtils.get_size(Path(self.config.local_data_file))}\")  \n",
    "\n",
    "    def extract_zip_file(self):\n",
    "        \"\"\"\n",
    "        zip_file_path: str\n",
    "        Extracts the zip file into the data directory\n",
    "        Function returns None\n",
    "        \"\"\"\n",
    "        unzip_path = self.data_ingestion_config.unzip_dir\n",
    "        os.makedirs(unzip_path, exist_ok=True)\n",
    "        try:\n",
    "            with zipfile.ZipFile(self.data_ingestion_config.local_data_file, 'r') as zip_ref:\n",
    "                zip_ref.extractall(unzip_path)\n",
    "        except zipfile.BadZipFile as e:\n",
    "            print(f\"BadZipFile Error:{e}\")\n",
    "        \n",
    "\n",
    "    def initiate_data_ingestion(self) -> DataIngestionArtifacts:\n",
    "        logging.info(\"Entered the initiate_data_ingestion method of the data ingestion class\")\n",
    "        try:\n",
    "            os.makedirs(\n",
    "                self.data_ingestion_config.data_ingestion_artifacts_dir,exist_ok=True\n",
    "            )\n",
    "            logging.info(f\"Creating {os.basename(self.data_ingestion_config.data_ingestion_artifacts_dir)} directory\")\n",
    "\n",
    "            #Downloading data from given URL\n",
    "            self.download_file()\n",
    "            logging.info(f\"Downloading data from given url {self.data_ingestion_config.source_url}\")\n",
    "\n",
    "            #extract file\n",
    "            self.extract_zip_file()\n",
    "            logging.info(f\"Extracting file in directory {self.data_ingestion_config.local_data_file}\")\n",
    "\n",
    "        except Exception as e:\n",
    "            raise e            \n"
   ]
  },
  {
   "cell_type": "code",
   "execution_count": 13,
   "metadata": {},
   "outputs": [],
   "source": [
    "# try:\n",
    "#     config = DataIngestionConfig()\n",
    "#     data_ingestion_config = config.data_ingestion_artifacts_dir()\n",
    "#     data_ingestion = DataIngestion(config=data_ingestion_config)\n",
    "#     data_ingestion.initiate_data_ingestion()\n",
    "# except Exception as e:\n",
    "#     raise e"
   ]
  },
  {
   "cell_type": "code",
   "execution_count": null,
   "metadata": {},
   "outputs": [],
   "source": [
    "import sys\n",
    "from src.store_demand_forecasting.constants import *\n",
    "\n",
    "from src.store_demand_forecasting.entity.artifact_entity import (\n",
    "    DataIngestionArtifacts\n",
    "    )\n",
    "\n",
    "\n",
    "from src.store_demand_forecasting.entity.config_entity import (\n",
    "    DataIngestionConfig,\n",
    "    \n",
    ")\n",
    "\n",
    "\n",
    "from src.store_demand_forecasting.exception import NerException\n",
    "from src.store_demand_forecasting.logger import logging\n",
    "\n",
    "\n",
    "class TrainPipeline:\n",
    "    def __init__(self):\n",
    "        self.data_ingestion_config = DataIngestionConfig()\n",
    "\n",
    "    \n",
    "     # This method is used to start the data ingestion\n",
    "    def start_data_ingestion(self) -> DataIngestionArtifacts:\n",
    "        logging.info(\"Entered the start_data_ingestion method of TrainPipeline class\")\n",
    "        try:\n",
    "            logging.info(\"Getting the data from Google cloud storage\")\n",
    "            data_ingestion = DataIngestion(\n",
    "                data_ingestion_config=self.data_ingestion_config\n",
    "            )\n",
    "            data_ingestion_artifact = data_ingestion.initiate_data_ingestion()\n",
    "            logging.info(\"Got the data from Google cloud storage\")\n",
    "            logging.info(\n",
    "                \"Exited the start_data_ingestion method of TrainPipeline class\"\n",
    "            )\n",
    "            return data_ingestion_artifact\n",
    "\n",
    "        except Exception as e:\n",
    "            raise NerException(e, sys) from e"
   ]
  },
  {
   "cell_type": "code",
   "execution_count": 14,
   "metadata": {},
   "outputs": [],
   "source": [
    "def run_pipeline(self) -> None:\n",
    "    try:\n",
    "        logging.info(\"Started Model training >>>>>>>>>>>>>>>>>>>>>>>>>>>>>\")\n",
    "        data_ingestion_artifact = self.start_data_ingestion()\n",
    "        \n",
    "    except Exception as e:\n",
    "        raise e"
   ]
  }
 ],
 "metadata": {
  "kernelspec": {
   "display_name": "sega",
   "language": "python",
   "name": "python3"
  },
  "language_info": {
   "codemirror_mode": {
    "name": "ipython",
    "version": 3
   },
   "file_extension": ".py",
   "mimetype": "text/x-python",
   "name": "python",
   "nbconvert_exporter": "python",
   "pygments_lexer": "ipython3",
   "version": "3.9.19"
  }
 },
 "nbformat": 4,
 "nbformat_minor": 2
}
